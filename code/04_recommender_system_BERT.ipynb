{
 "cells": [
  {
   "cell_type": "markdown",
   "metadata": {},
   "source": [
    "## Modeling 2: BERT Recommender Systems"
   ]
  },
  {
   "cell_type": "code",
   "execution_count": 5,
   "metadata": {
    "colab": {},
    "colab_type": "code",
    "id": "Ov4DifYFMOl3"
   },
   "outputs": [],
   "source": [
    "#Import Libraries\n",
    "import pandas as pd\n",
    "import tensorflow as tf \n",
    "import tensorflow_hub as hub \n",
    "import numpy as np\n",
    "from tensorflow.keras import layers \n",
    "import bert\n",
    "import re\n",
    "import bert \n",
    "from sklearn.metrics.pairwise import cosine_similarity\n",
    "from keras.preprocessing.sequence import pad_sequences\n",
    "import pickle \n",
    "\n",
    "#Load Data Frame\n",
    "df = pd.read_csv('final_hbo_data_3.csv', index_col=0)"
   ]
  },
  {
   "cell_type": "markdown",
   "metadata": {},
   "source": [
    "The code block below contains the pre-processing steps needed to utilize BERT. The first function removes punctuations, numbers, single characters, and extra spaces from plot summaries. The second function removes hyphen and extra spaces from the MPAA/TV ratings (rating column). The code below is taken from this [link](https://stackabuse.com/text-classification-with-bert-tokenizer-and-tf-2-0-in-python/)."
   ]
  },
  {
   "cell_type": "code",
   "execution_count": 9,
   "metadata": {
    "colab": {},
    "colab_type": "code",
    "id": "EMiT1BPsQ5OD"
   },
   "outputs": [],
   "source": [
    "#Remove punctuations, numbers, single characters and extra spaces for plot summaries\n",
    "def text_processing(sen):\n",
    "  text = re.sub('[^a-zA-Z]', ' ', sen)\n",
    "  text = re.sub(r'\\s+[a-zA-Z]\\s+', ' ', text)\n",
    "  text = re.sub(r'\\s+', ' ', text)\n",
    "  return text\n",
    "\n",
    "#Remove hyphen and spaces for the MPAA/TV rating\n",
    "def rating_preprocesing(text):\n",
    "  text =  re.sub('-', '', text)\n",
    "  text = re.sub(' ', '', text)\n",
    "  return text\n",
    "\n",
    "#Prepare BertTokenizer. \n",
    "#See link https://stackabuse.com/text-classification-with-bert-tokenizer-and-tf-2-0-in-python/ for explanation\n",
    "bert_tokenizer = bert.bert_tokenization.FullTokenizer\n",
    "bert_layer = hub.KerasLayer(\"https://tfhub.dev/tensorflow/bert_en_uncased_L-12_H-768_A-12/1\",\n",
    "                            trainable=False)\n",
    "vocabulary_file = bert_layer.resolved_object.vocab_file.asset_path.numpy()\n",
    "to_lower_case = bert_layer.resolved_object.do_lower_case.numpy()\n",
    "tokenizer = bert_tokenizer(vocabulary_file, to_lower_case)\n",
    "\n",
    "#Tokenize and Vectorize plot column\n",
    "df['clean_plot'] = df['plot'].map(text_processing)\n",
    "df['token_plot'] = df['clean_plot'].map(tokenizer.tokenize)\n",
    "df['id_plot'] = df['token_plot'].map(tokenizer.convert_tokens_to_ids)\n",
    "\n",
    "#Tokenize and Vectorize genre column\n",
    "df['clean_genre'] = df['genre'].map(text_processing)\n",
    "df['token_genre'] = df['clean_genre'].map(tokenizer.tokenize)\n",
    "df['id_genre'] = df['token_genre'].map(tokenizer.convert_tokens_to_ids)\n",
    "\n",
    "#Tokenize and Vectorize rating column  \n",
    "df['token_rating'] = df['rating'].map(tokenizer.tokenize)\n",
    "df['id_rating'] = df['token_rating'].map(tokenizer.convert_tokens_to_ids)"
   ]
  },
  {
   "cell_type": "markdown",
   "metadata": {
    "colab_type": "text",
    "id": "AATPhF2ZFQxe"
   },
   "source": [
    "### Recommender 4: Content-Based Recommender using BERT (based on vectorized genre, plot, and MPAA/TV ratings)\n",
    "\n",
    "Although Recommender 3 is doing a great job at filtering relevant content. I was curious to see if changing the vectorizer from Tfidvectorizer to BERT will affect the results. \n",
    "\n",
    "To start, I first tokenized and vectorized the plot, genre, and MPAA/TV ratings. They are then aggregated together into a matrix that was used as input to calculate the cosine similarity.  \n",
    "- Note: The arrays need to be of the same size. To ratify the problem, I padded the sequence and set a max length depending on the columns (genre = 3, rating =2, and plot =50)."
   ]
  },
  {
   "cell_type": "code",
   "execution_count": 18,
   "metadata": {
    "colab": {
     "base_uri": "https://localhost:8080/",
     "height": 289
    },
    "colab_type": "code",
    "id": "hwBqNf2AJCkS",
    "outputId": "b3e02e06-936d-47f7-9ef4-620b8dcc3c8a"
   },
   "outputs": [
    {
     "data": {
      "text/html": [
       "<div>\n",
       "<style scoped>\n",
       "    .dataframe tbody tr th:only-of-type {\n",
       "        vertical-align: middle;\n",
       "    }\n",
       "\n",
       "    .dataframe tbody tr th {\n",
       "        vertical-align: top;\n",
       "    }\n",
       "\n",
       "    .dataframe thead th {\n",
       "        text-align: right;\n",
       "    }\n",
       "</style>\n",
       "<table border=\"1\" class=\"dataframe\">\n",
       "  <thead>\n",
       "    <tr style=\"text-align: right;\">\n",
       "      <th></th>\n",
       "      <th>id</th>\n",
       "      <th>title</th>\n",
       "      <th>year</th>\n",
       "      <th>plot</th>\n",
       "      <th>genre</th>\n",
       "      <th>rating</th>\n",
       "      <th>imdb_rating</th>\n",
       "      <th>type</th>\n",
       "    </tr>\n",
       "  </thead>\n",
       "  <tbody>\n",
       "    <tr>\n",
       "      <th>276</th>\n",
       "      <td>16069</td>\n",
       "      <td>Batman Forever</td>\n",
       "      <td>1995</td>\n",
       "      <td>The Dark Knight of Gotham City confronts a das...</td>\n",
       "      <td>Fantasy ActionandAdventure</td>\n",
       "      <td>PG-13</td>\n",
       "      <td>5.4</td>\n",
       "      <td>movie</td>\n",
       "    </tr>\n",
       "    <tr>\n",
       "      <th>1471</th>\n",
       "      <td>76011</td>\n",
       "      <td>My Brilliant Career</td>\n",
       "      <td>1979</td>\n",
       "      <td>A young woman who is determined to maintain he...</td>\n",
       "      <td>Drama Romance</td>\n",
       "      <td>G</td>\n",
       "      <td>7.1</td>\n",
       "      <td>movie</td>\n",
       "    </tr>\n",
       "    <tr>\n",
       "      <th>1485</th>\n",
       "      <td>109142</td>\n",
       "      <td>Godzilla Raids Again</td>\n",
       "      <td>1955</td>\n",
       "      <td>Two fishing scout pilots make a startling disc...</td>\n",
       "      <td>ScienceFiction Horror KidsandFamily ActionandA...</td>\n",
       "      <td>Approved</td>\n",
       "      <td>5.9</td>\n",
       "      <td>movie</td>\n",
       "    </tr>\n",
       "    <tr>\n",
       "      <th>1253</th>\n",
       "      <td>132147</td>\n",
       "      <td>For All Mankind</td>\n",
       "      <td>1989</td>\n",
       "      <td>A testament to NASA's Apollo program of the 19...</td>\n",
       "      <td>Documentary History</td>\n",
       "      <td>Not Rated</td>\n",
       "      <td>8.2</td>\n",
       "      <td>movie</td>\n",
       "    </tr>\n",
       "    <tr>\n",
       "      <th>404</th>\n",
       "      <td>204163</td>\n",
       "      <td>War Dogs</td>\n",
       "      <td>2016</td>\n",
       "      <td>Based on the true story of two young men, Davi...</td>\n",
       "      <td>Crime Drama Comedy WarandMilitary</td>\n",
       "      <td>R</td>\n",
       "      <td>7.1</td>\n",
       "      <td>movie</td>\n",
       "    </tr>\n",
       "  </tbody>\n",
       "</table>\n",
       "</div>"
      ],
      "text/plain": [
       "          id                 title  year  ...     rating imdb_rating   type\n",
       "276    16069        Batman Forever  1995  ...      PG-13         5.4  movie\n",
       "1471   76011   My Brilliant Career  1979  ...          G         7.1  movie\n",
       "1485  109142  Godzilla Raids Again  1955  ...   Approved         5.9  movie\n",
       "1253  132147       For All Mankind  1989  ...  Not Rated         8.2  movie\n",
       "404   204163              War Dogs  2016  ...          R         7.1  movie\n",
       "\n",
       "[5 rows x 8 columns]"
      ]
     },
     "execution_count": 18,
     "metadata": {
      "tags": []
     },
     "output_type": "execute_result"
    }
   ],
   "source": [
    "def recommender_4(title, num=5):\n",
    "  data = df.copy()\n",
    "\n",
    "  #Pad the vectorized ids for genre, rating, and plot. \n",
    "  genre = pad_sequences(data['id_genre'], maxlen = 3)\n",
    "  rating = pad_sequences(data['id_rating'], maxlen = 2)\n",
    "  plot = pad_sequences(data['id_plot'], maxlen= 30)\n",
    "  \n",
    "  #Combined genre, plot, and plot arrays into a single matrix \n",
    "  bert_matrix = np.append(rating, genre, axis=1)\n",
    "  bert_matrix = np.append(bert_matrix, plot, axis=1)\n",
    "  \n",
    "  #Find the cosine similarity bert_matrix\n",
    "  #Setup a data frame where content title index are values and content titles are index\n",
    "  cosine_sim = cosine_similarity(bert_matrix, bert_matrix)\n",
    "  indices = pd.Series(data.index, index=data.title.str.lower())\n",
    "  \n",
    "  #Sort the similarity scores and isolate top n content indices\n",
    "  #Filter data with the isolate indices and return final recommendation\n",
    "  score = sorted(list(enumerate(cosine_sim[indices[title.lower()]])), key=lambda x: x[1], reverse=True)\n",
    "  titles_index = [i[0] for i in score[1:num+1]]\n",
    "  sort_recom =  data.iloc[titles_index]\n",
    "  return sort_recom[['id', 'title', 'year', 'plot', 'genre', 'rating', 'imdb_rating', 'type']]\n",
    "\n",
    "recommender_4('south park')"
   ]
  },
  {
   "cell_type": "markdown",
   "metadata": {
    "colab_type": "text",
    "id": "C5wn0pUjIWN5"
   },
   "source": [
    "**Analysis:** This recommender is doing worst than Recommender 3. It appears to give random recommendations without any basis for the genre or MPAA/TV ratings. Additionally, none of the recommended titles are similar to South Park. A possible explanation is that similarity scores are based on the count of identical ids. Since the plot contains more ids than the other features, there is a greater emphasis on it when calculating similarities. \n",
    "\n",
    "### Recommender 5: Content-Based Recommender using BERT (based on vectorized genre, plot, and numerically encoded MPAA/TV ratings)\n",
    "\n",
    "To improve the results, I combined the methodology used for Recommender 3 and Recommender 4. In this way, the MPAA/TV rating will play a more significant part in determining similarity scores. "
   ]
  },
  {
   "cell_type": "code",
   "execution_count": 17,
   "metadata": {
    "colab": {
     "base_uri": "https://localhost:8080/",
     "height": 289
    },
    "colab_type": "code",
    "id": "mzvbPjpyDRV1",
    "outputId": "b0ec95fb-0776-4a31-900e-08892eec7c6d"
   },
   "outputs": [
    {
     "data": {
      "text/html": [
       "<div>\n",
       "<style scoped>\n",
       "    .dataframe tbody tr th:only-of-type {\n",
       "        vertical-align: middle;\n",
       "    }\n",
       "\n",
       "    .dataframe tbody tr th {\n",
       "        vertical-align: top;\n",
       "    }\n",
       "\n",
       "    .dataframe thead th {\n",
       "        text-align: right;\n",
       "    }\n",
       "</style>\n",
       "<table border=\"1\" class=\"dataframe\">\n",
       "  <thead>\n",
       "    <tr style=\"text-align: right;\">\n",
       "      <th></th>\n",
       "      <th>id</th>\n",
       "      <th>title</th>\n",
       "      <th>year</th>\n",
       "      <th>plot</th>\n",
       "      <th>genre</th>\n",
       "      <th>rating</th>\n",
       "      <th>imdb_rating</th>\n",
       "      <th>type</th>\n",
       "    </tr>\n",
       "  </thead>\n",
       "  <tbody>\n",
       "    <tr>\n",
       "      <th>1471</th>\n",
       "      <td>76011</td>\n",
       "      <td>My Brilliant Career</td>\n",
       "      <td>1979</td>\n",
       "      <td>A young woman who is determined to maintain he...</td>\n",
       "      <td>Drama Romance</td>\n",
       "      <td>G</td>\n",
       "      <td>7.1</td>\n",
       "      <td>movie</td>\n",
       "    </tr>\n",
       "    <tr>\n",
       "      <th>404</th>\n",
       "      <td>204163</td>\n",
       "      <td>War Dogs</td>\n",
       "      <td>2016</td>\n",
       "      <td>Based on the true story of two young men, Davi...</td>\n",
       "      <td>Crime Drama Comedy WarandMilitary</td>\n",
       "      <td>R</td>\n",
       "      <td>7.1</td>\n",
       "      <td>movie</td>\n",
       "    </tr>\n",
       "    <tr>\n",
       "      <th>306</th>\n",
       "      <td>449608</td>\n",
       "      <td>The Art of Racing in the Rain</td>\n",
       "      <td>2019</td>\n",
       "      <td>A family dog—with a near-human soul and a phil...</td>\n",
       "      <td>Comedy Drama Romance Sport</td>\n",
       "      <td>PG</td>\n",
       "      <td>7.5</td>\n",
       "      <td>movie</td>\n",
       "    </tr>\n",
       "    <tr>\n",
       "      <th>143</th>\n",
       "      <td>363037</td>\n",
       "      <td>Pokémon Detective Pikachu</td>\n",
       "      <td>2019</td>\n",
       "      <td>In a world where people collect pocket-size mo...</td>\n",
       "      <td>ActionandAdventure Fantasy Comedy KidsandFamil...</td>\n",
       "      <td>PG</td>\n",
       "      <td>6.6</td>\n",
       "      <td>movie</td>\n",
       "    </tr>\n",
       "    <tr>\n",
       "      <th>545</th>\n",
       "      <td>31383</td>\n",
       "      <td>Yes Man</td>\n",
       "      <td>2008</td>\n",
       "      <td>Carl Allen has stumbled across a way to shake ...</td>\n",
       "      <td>Comedy Romance</td>\n",
       "      <td>PG-13</td>\n",
       "      <td>6.8</td>\n",
       "      <td>movie</td>\n",
       "    </tr>\n",
       "  </tbody>\n",
       "</table>\n",
       "</div>"
      ],
      "text/plain": [
       "          id                          title  year  ... rating imdb_rating   type\n",
       "1471   76011            My Brilliant Career  1979  ...      G         7.1  movie\n",
       "404   204163                       War Dogs  2016  ...      R         7.1  movie\n",
       "306   449608  The Art of Racing in the Rain  2019  ...     PG         7.5  movie\n",
       "143   363037      Pokémon Detective Pikachu  2019  ...     PG         6.6  movie\n",
       "545    31383                        Yes Man  2008  ...  PG-13         6.8  movie\n",
       "\n",
       "[5 rows x 8 columns]"
      ]
     },
     "execution_count": 17,
     "metadata": {
      "tags": []
     },
     "output_type": "execute_result"
    }
   ],
   "source": [
    "def recommender_5(title, num=5):\n",
    "  data = df.copy()\n",
    "  ratings = {'Not Rated': 0,'Approved': 0, 'Passed': 0,'TV-Y': 1, 'TV-Y7': 2,'TV-G': 3, 'G': 3, 'TV-PG': 4,\n",
    "               'PG': 4,'PG-13': 8,'TV-14': 9,'R': 13,'TV-MA': 14,'NC-17': 15}\n",
    "    \n",
    "  #Convert MPAA/TV ratings to numerical equivalent and average the IMDB and TMDB scores. \n",
    "  #Isolate the two features into one data frame\n",
    "  data['rating_score'] = data['rating'].map(ratings)\n",
    "  data['average'] = ((data['imdb_rating'] + data['tmdb_rating'])/2)\n",
    "  num_info = data[['average', 'rating_score']]\n",
    "\n",
    "  #Pad the genre and plot ids \n",
    "  genre = pad_sequences(data['id_genre'], maxlen = 3)\n",
    "  plot = pad_sequences(data['id_plot'], maxlen= 50)\n",
    "\n",
    "  #Combine padded genre and plot together with the isolate features (num_info)\n",
    "  bert_matrix = np.append(genre, plot, axis=1)\n",
    "  bert_matrix = np.append(bert_matrix, num_info, axis=1)\n",
    "  \n",
    "  #Find the cosine similarity, setup content series, sort similarity scores, and isolate similar content\n",
    "  cosine_sim = cosine_similarity(bert_matrix, bert_matrix)\n",
    "  indices = pd.Series(data.index, index=data.title.str.lower())\n",
    "  score = sorted(list(enumerate(cosine_sim[indices[title.lower()]])), key=lambda x: x[1], reverse=True)\n",
    "  recomm_content = data.loc[[i[0] for i in score[1:num+1]]]\n",
    "  return recomm_content[['id', 'title', 'year', 'plot', 'genre', 'rating', 'imdb_rating', 'type']]\n",
    "\n",
    "recommender_5('south park')"
   ]
  },
  {
   "cell_type": "markdown",
   "metadata": {
    "colab_type": "text",
    "id": "SZ1qU5CULxuD"
   },
   "source": [
    "**Analysis:** Recommender 5 is doing a better job than Recommender 4. There are some similar content, such as Yes Man. However, there are still some errors. Similar to Recommender 4, the limitations of this model lies in the vectorizer matrix. The genre is most likely being overshadowed by the plot, reducing its effects. For the future, I would explorer other methods to incorporate genre into the recommender. I could also add more features, such as directors, actors, and runtime, to help with the results."
   ]
  }
 ],
 "metadata": {
  "accelerator": "GPU",
  "colab": {
   "collapsed_sections": [],
   "name": "04_modeling_BERT.ipynb",
   "provenance": []
  },
  "kernelspec": {
   "display_name": "Python 3",
   "language": "python",
   "name": "python3"
  },
  "language_info": {
   "codemirror_mode": {
    "name": "ipython",
    "version": 3
   },
   "file_extension": ".py",
   "mimetype": "text/x-python",
   "name": "python",
   "nbconvert_exporter": "python",
   "pygments_lexer": "ipython3",
   "version": "3.7.6"
  }
 },
 "nbformat": 4,
 "nbformat_minor": 4
}
